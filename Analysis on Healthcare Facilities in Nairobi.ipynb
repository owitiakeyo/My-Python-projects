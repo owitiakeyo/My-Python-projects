{
 "cells": [
  {
   "attachments": {},
   "cell_type": "markdown",
   "metadata": {},
   "source": [
    "# Accessible Healthcare Facilities in Nairobi County"
   ]
  },
  {
   "cell_type": "code",
   "execution_count": 8,
   "metadata": {},
   "outputs": [],
   "source": [
    "# This is an exploitory Data Analysis project on the Healthcare Facilities accessible in Nairobi County, Kenya."
   ]
  },
  {
   "attachments": {},
   "cell_type": "markdown",
   "metadata": {},
   "source": [
    "**Importing packages**"
   ]
  },
  {
   "cell_type": "code",
   "execution_count": 1,
   "metadata": {},
   "outputs": [],
   "source": [
    "# I will begin by importing python packages that I will need for this analysis\n",
    "\n",
    "import pandas as pd\n",
    "import numpy as np\n",
    "import matplotlib.pyplot as plt\n",
    "\n"
   ]
  },
  {
   "attachments": {},
   "cell_type": "markdown",
   "metadata": {},
   "source": [
    "**Importing Data**"
   ]
  },
  {
   "cell_type": "code",
   "execution_count": 2,
   "metadata": {},
   "outputs": [],
   "source": [
    "#Loading data from data source(MSexcel)\n",
    "#I will load my CSV file using pandas\n",
    "\n",
    "file_name = \"Healthcare Facilities in Nairobi\"\n",
    "df = pd.read_csv(r\"C:/Users/akeyo/OneDrive/Documents/DA Projects/Healthcare Facilities in Nairobi.csv\")\n"
   ]
  },
  {
   "cell_type": "code",
   "execution_count": 3,
   "metadata": {},
   "outputs": [
    {
     "name": "stdout",
     "output_type": "stream",
     "text": [
      "     Facility Number                   Facility Name Sub-County  \\\n",
      "0                  1       MAMA LUCY KIBAKI HOSPITAL      NJIRU   \n",
      "1                  3    APTC  EMBAKASI HEALTH CENTRE   EMBAKASI   \n",
      "2                  4                 AYANY ESTATE HC      KIBRA   \n",
      "3                  5                    BABA DOGO HC   KASARANI   \n",
      "4                  6                     BAHATI DISP   MAKADARA   \n",
      "..               ...                             ...        ...   \n",
      "194              863  VICTORY CENTRAL MEDICAL CLINIC   EMBAKASI   \n",
      "195              872      WESTLANDS COTTAGE HOSPITAL  WESTLANDS   \n",
      "196              176                MEDANTA AFRICARE  WESTLANDS   \n",
      "197               18  NYINA WA MUMBI HEALTH SERVICES  DAGORETTI   \n",
      "198              418              MEDIHEAL HOSPITALS  WESTLANDS   \n",
      "\n",
      "                                        Facility Type   \n",
      "0    Hospital Moh and Mission Districts, sub-districts  \n",
      "1                                        Health Centre  \n",
      "2                                        Health Centre  \n",
      "3                                        Health Centre  \n",
      "4                                           Dispensary  \n",
      "..                                                 ...  \n",
      "194                Private Clinics and Medical centres  \n",
      "195                                   Private Hospital  \n",
      "196                                   Private Hospital  \n",
      "197                                      Health Centre  \n",
      "198                                   Private Hospital  \n",
      "\n",
      "[199 rows x 4 columns]\n"
     ]
    }
   ],
   "source": [
    "# Displaying the loaded data\n",
    "print(df)"
   ]
  },
  {
   "attachments": {},
   "cell_type": "markdown",
   "metadata": {},
   "source": [
    "**Data Exploration**"
   ]
  },
  {
   "cell_type": "code",
   "execution_count": 4,
   "metadata": {},
   "outputs": [
    {
     "data": {
      "text/html": [
       "<div>\n",
       "<style scoped>\n",
       "    .dataframe tbody tr th:only-of-type {\n",
       "        vertical-align: middle;\n",
       "    }\n",
       "\n",
       "    .dataframe tbody tr th {\n",
       "        vertical-align: top;\n",
       "    }\n",
       "\n",
       "    .dataframe thead th {\n",
       "        text-align: right;\n",
       "    }\n",
       "</style>\n",
       "<table border=\"1\" class=\"dataframe\">\n",
       "  <thead>\n",
       "    <tr style=\"text-align: right;\">\n",
       "      <th></th>\n",
       "      <th>Facility Number</th>\n",
       "      <th>Facility Name</th>\n",
       "      <th>Sub-County</th>\n",
       "      <th>Facility Type</th>\n",
       "    </tr>\n",
       "  </thead>\n",
       "  <tbody>\n",
       "    <tr>\n",
       "      <th>0</th>\n",
       "      <td>1</td>\n",
       "      <td>MAMA LUCY KIBAKI HOSPITAL</td>\n",
       "      <td>NJIRU</td>\n",
       "      <td>Hospital Moh and Mission Districts, sub-districts</td>\n",
       "    </tr>\n",
       "    <tr>\n",
       "      <th>1</th>\n",
       "      <td>3</td>\n",
       "      <td>APTC  EMBAKASI HEALTH CENTRE</td>\n",
       "      <td>EMBAKASI</td>\n",
       "      <td>Health Centre</td>\n",
       "    </tr>\n",
       "    <tr>\n",
       "      <th>2</th>\n",
       "      <td>4</td>\n",
       "      <td>AYANY ESTATE HC</td>\n",
       "      <td>KIBRA</td>\n",
       "      <td>Health Centre</td>\n",
       "    </tr>\n",
       "    <tr>\n",
       "      <th>3</th>\n",
       "      <td>5</td>\n",
       "      <td>BABA DOGO HC</td>\n",
       "      <td>KASARANI</td>\n",
       "      <td>Health Centre</td>\n",
       "    </tr>\n",
       "    <tr>\n",
       "      <th>4</th>\n",
       "      <td>6</td>\n",
       "      <td>BAHATI DISP</td>\n",
       "      <td>MAKADARA</td>\n",
       "      <td>Dispensary</td>\n",
       "    </tr>\n",
       "  </tbody>\n",
       "</table>\n",
       "</div>"
      ],
      "text/plain": [
       "   Facility Number                 Facility Name Sub-County  \\\n",
       "0                1     MAMA LUCY KIBAKI HOSPITAL      NJIRU   \n",
       "1                3  APTC  EMBAKASI HEALTH CENTRE   EMBAKASI   \n",
       "2                4               AYANY ESTATE HC      KIBRA   \n",
       "3                5                  BABA DOGO HC   KASARANI   \n",
       "4                6                   BAHATI DISP   MAKADARA   \n",
       "\n",
       "                                      Facility Type   \n",
       "0  Hospital Moh and Mission Districts, sub-districts  \n",
       "1                                      Health Centre  \n",
       "2                                      Health Centre  \n",
       "3                                      Health Centre  \n",
       "4                                         Dispensary  "
      ]
     },
     "execution_count": 4,
     "metadata": {},
     "output_type": "execute_result"
    }
   ],
   "source": [
    "# Exploring the first 5 lines of my dataframe\n",
    "\n",
    "df.head()"
   ]
  },
  {
   "cell_type": "code",
   "execution_count": 5,
   "metadata": {},
   "outputs": [
    {
     "data": {
      "text/html": [
       "<div>\n",
       "<style scoped>\n",
       "    .dataframe tbody tr th:only-of-type {\n",
       "        vertical-align: middle;\n",
       "    }\n",
       "\n",
       "    .dataframe tbody tr th {\n",
       "        vertical-align: top;\n",
       "    }\n",
       "\n",
       "    .dataframe thead th {\n",
       "        text-align: right;\n",
       "    }\n",
       "</style>\n",
       "<table border=\"1\" class=\"dataframe\">\n",
       "  <thead>\n",
       "    <tr style=\"text-align: right;\">\n",
       "      <th></th>\n",
       "      <th>Facility Number</th>\n",
       "      <th>Facility Name</th>\n",
       "      <th>Sub-County</th>\n",
       "      <th>Facility Type</th>\n",
       "    </tr>\n",
       "  </thead>\n",
       "  <tbody>\n",
       "    <tr>\n",
       "      <th>189</th>\n",
       "      <td>781</td>\n",
       "      <td>PANGANI CRESCENT MEDICAL AID CLINIC</td>\n",
       "      <td>KAMUKUNJI</td>\n",
       "      <td>Private Clinics and Medical centres</td>\n",
       "    </tr>\n",
       "    <tr>\n",
       "      <th>190</th>\n",
       "      <td>825</td>\n",
       "      <td>ST. JAMES HOSPITAL</td>\n",
       "      <td>EMBAKASI</td>\n",
       "      <td>Private Hospital</td>\n",
       "    </tr>\n",
       "    <tr>\n",
       "      <th>191</th>\n",
       "      <td>828</td>\n",
       "      <td>ST. MARY'S MEDICAL DISP</td>\n",
       "      <td>EMBAKASI</td>\n",
       "      <td>Dispensary</td>\n",
       "    </tr>\n",
       "    <tr>\n",
       "      <th>192</th>\n",
       "      <td>833</td>\n",
       "      <td>ST. THOMAS MEDICAL HEALTH SERVICES</td>\n",
       "      <td>EMBAKASI</td>\n",
       "      <td>Private Clinics and Medical centres</td>\n",
       "    </tr>\n",
       "    <tr>\n",
       "      <th>193</th>\n",
       "      <td>834</td>\n",
       "      <td>ST. VERONICA HEALTH SERVICES &amp; LABORATORY</td>\n",
       "      <td>KAMUKUNJI</td>\n",
       "      <td>Private Clinics and Medical centres</td>\n",
       "    </tr>\n",
       "    <tr>\n",
       "      <th>194</th>\n",
       "      <td>863</td>\n",
       "      <td>VICTORY CENTRAL MEDICAL CLINIC</td>\n",
       "      <td>EMBAKASI</td>\n",
       "      <td>Private Clinics and Medical centres</td>\n",
       "    </tr>\n",
       "    <tr>\n",
       "      <th>195</th>\n",
       "      <td>872</td>\n",
       "      <td>WESTLANDS COTTAGE HOSPITAL</td>\n",
       "      <td>WESTLANDS</td>\n",
       "      <td>Private Hospital</td>\n",
       "    </tr>\n",
       "    <tr>\n",
       "      <th>196</th>\n",
       "      <td>176</td>\n",
       "      <td>MEDANTA AFRICARE</td>\n",
       "      <td>WESTLANDS</td>\n",
       "      <td>Private Hospital</td>\n",
       "    </tr>\n",
       "    <tr>\n",
       "      <th>197</th>\n",
       "      <td>18</td>\n",
       "      <td>NYINA WA MUMBI HEALTH SERVICES</td>\n",
       "      <td>DAGORETTI</td>\n",
       "      <td>Health Centre</td>\n",
       "    </tr>\n",
       "    <tr>\n",
       "      <th>198</th>\n",
       "      <td>418</td>\n",
       "      <td>MEDIHEAL HOSPITALS</td>\n",
       "      <td>WESTLANDS</td>\n",
       "      <td>Private Hospital</td>\n",
       "    </tr>\n",
       "  </tbody>\n",
       "</table>\n",
       "</div>"
      ],
      "text/plain": [
       "     Facility Number                              Facility Name Sub-County  \\\n",
       "189              781        PANGANI CRESCENT MEDICAL AID CLINIC  KAMUKUNJI   \n",
       "190              825                         ST. JAMES HOSPITAL   EMBAKASI   \n",
       "191              828                    ST. MARY'S MEDICAL DISP   EMBAKASI   \n",
       "192              833         ST. THOMAS MEDICAL HEALTH SERVICES   EMBAKASI   \n",
       "193              834  ST. VERONICA HEALTH SERVICES & LABORATORY  KAMUKUNJI   \n",
       "194              863             VICTORY CENTRAL MEDICAL CLINIC   EMBAKASI   \n",
       "195              872                 WESTLANDS COTTAGE HOSPITAL  WESTLANDS   \n",
       "196              176                           MEDANTA AFRICARE  WESTLANDS   \n",
       "197               18             NYINA WA MUMBI HEALTH SERVICES  DAGORETTI   \n",
       "198              418                         MEDIHEAL HOSPITALS  WESTLANDS   \n",
       "\n",
       "                          Facility Type   \n",
       "189  Private Clinics and Medical centres  \n",
       "190                     Private Hospital  \n",
       "191                           Dispensary  \n",
       "192  Private Clinics and Medical centres  \n",
       "193  Private Clinics and Medical centres  \n",
       "194  Private Clinics and Medical centres  \n",
       "195                     Private Hospital  \n",
       "196                     Private Hospital  \n",
       "197                        Health Centre  \n",
       "198                     Private Hospital  "
      ]
     },
     "execution_count": 5,
     "metadata": {},
     "output_type": "execute_result"
    }
   ],
   "source": [
    "# Viewing the last 10 lines\n",
    "\n",
    "df.tail(10)"
   ]
  },
  {
   "cell_type": "code",
   "execution_count": 6,
   "metadata": {},
   "outputs": [
    {
     "data": {
      "text/html": [
       "<div>\n",
       "<style scoped>\n",
       "    .dataframe tbody tr th:only-of-type {\n",
       "        vertical-align: middle;\n",
       "    }\n",
       "\n",
       "    .dataframe tbody tr th {\n",
       "        vertical-align: top;\n",
       "    }\n",
       "\n",
       "    .dataframe thead th {\n",
       "        text-align: right;\n",
       "    }\n",
       "</style>\n",
       "<table border=\"1\" class=\"dataframe\">\n",
       "  <thead>\n",
       "    <tr style=\"text-align: right;\">\n",
       "      <th></th>\n",
       "      <th>Facility Number</th>\n",
       "    </tr>\n",
       "  </thead>\n",
       "  <tbody>\n",
       "    <tr>\n",
       "      <th>count</th>\n",
       "      <td>199.000000</td>\n",
       "    </tr>\n",
       "    <tr>\n",
       "      <th>mean</th>\n",
       "      <td>200.798995</td>\n",
       "    </tr>\n",
       "    <tr>\n",
       "      <th>std</th>\n",
       "      <td>209.176137</td>\n",
       "    </tr>\n",
       "    <tr>\n",
       "      <th>min</th>\n",
       "      <td>1.000000</td>\n",
       "    </tr>\n",
       "    <tr>\n",
       "      <th>25%</th>\n",
       "      <td>57.500000</td>\n",
       "    </tr>\n",
       "    <tr>\n",
       "      <th>50%</th>\n",
       "      <td>133.000000</td>\n",
       "    </tr>\n",
       "    <tr>\n",
       "      <th>75%</th>\n",
       "      <td>243.000000</td>\n",
       "    </tr>\n",
       "    <tr>\n",
       "      <th>max</th>\n",
       "      <td>872.000000</td>\n",
       "    </tr>\n",
       "  </tbody>\n",
       "</table>\n",
       "</div>"
      ],
      "text/plain": [
       "       Facility Number\n",
       "count       199.000000\n",
       "mean        200.798995\n",
       "std         209.176137\n",
       "min           1.000000\n",
       "25%          57.500000\n",
       "50%         133.000000\n",
       "75%         243.000000\n",
       "max         872.000000"
      ]
     },
     "execution_count": 6,
     "metadata": {},
     "output_type": "execute_result"
    }
   ],
   "source": [
    "# Exploring the data using summary statistics\n",
    "\n",
    "df.describe()"
   ]
  },
  {
   "cell_type": "code",
   "execution_count": 7,
   "metadata": {},
   "outputs": [
    {
     "name": "stdout",
     "output_type": "stream",
     "text": [
      "<class 'pandas.core.frame.DataFrame'>\n",
      "RangeIndex: 199 entries, 0 to 198\n",
      "Data columns (total 4 columns):\n",
      " #   Column           Non-Null Count  Dtype \n",
      "---  ------           --------------  ----- \n",
      " 0   Facility Number  199 non-null    int64 \n",
      " 1   Facility Name    199 non-null    object\n",
      " 2   Sub-County       199 non-null    object\n",
      " 3   Facility Type    199 non-null    object\n",
      "dtypes: int64(1), object(3)\n",
      "memory usage: 6.3+ KB\n"
     ]
    }
   ],
   "source": [
    "df.info()"
   ]
  },
  {
   "cell_type": "code",
   "execution_count": 8,
   "metadata": {},
   "outputs": [
    {
     "data": {
      "text/plain": [
       "Facility Number     int64\n",
       "Facility Name      object\n",
       "Sub-County         object\n",
       "Facility Type      object\n",
       "dtype: object"
      ]
     },
     "execution_count": 8,
     "metadata": {},
     "output_type": "execute_result"
    }
   ],
   "source": [
    "df.dtypes"
   ]
  },
  {
   "cell_type": "code",
   "execution_count": 9,
   "metadata": {},
   "outputs": [
    {
     "data": {
      "text/plain": [
       "Index(['Facility Number', 'Facility Name', 'Sub-County', 'Facility Type '], dtype='object')"
      ]
     },
     "execution_count": 9,
     "metadata": {},
     "output_type": "execute_result"
    }
   ],
   "source": [
    "df.columns"
   ]
  },
  {
   "attachments": {},
   "cell_type": "markdown",
   "metadata": {},
   "source": [
    "**Data Cleaning**"
   ]
  },
  {
   "cell_type": "code",
   "execution_count": 10,
   "metadata": {},
   "outputs": [
    {
     "data": {
      "text/plain": [
       "array(['NJIRU', 'EMBAKASI', 'KIBRA', 'KASARANI', 'MAKADARA', 'KAMUKUNJI',\n",
       "       'WESTLANDS', 'STAREHE', \"LANG'ATA\", 'MATHARE', 'DAGORETTI',\n",
       "       'PUMWANI'], dtype=object)"
      ]
     },
     "execution_count": 10,
     "metadata": {},
     "output_type": "execute_result"
    }
   ],
   "source": [
    "# Which are the Sub-counties tallied in the dataset?\n",
    "\n",
    "df['Sub-County'].unique()"
   ]
  },
  {
   "cell_type": "code",
   "execution_count": 11,
   "metadata": {},
   "outputs": [],
   "source": [
    "# Renaming Columns\n",
    "\n",
    "new_columns = {'Facility Number' : 'facility_No',\n",
    "               'Facility Name': 'Name',\n",
    "               'Sub-County': 'Area',\n",
    "               'Facility Type': 'Type'}\n",
    "\n",
    "df.rename(columns = new_columns, inplace=True)"
   ]
  },
  {
   "cell_type": "code",
   "execution_count": 12,
   "metadata": {},
   "outputs": [
    {
     "data": {
      "text/html": [
       "<div>\n",
       "<style scoped>\n",
       "    .dataframe tbody tr th:only-of-type {\n",
       "        vertical-align: middle;\n",
       "    }\n",
       "\n",
       "    .dataframe tbody tr th {\n",
       "        vertical-align: top;\n",
       "    }\n",
       "\n",
       "    .dataframe thead th {\n",
       "        text-align: right;\n",
       "    }\n",
       "</style>\n",
       "<table border=\"1\" class=\"dataframe\">\n",
       "  <thead>\n",
       "    <tr style=\"text-align: right;\">\n",
       "      <th></th>\n",
       "      <th>facility_No</th>\n",
       "      <th>Name</th>\n",
       "      <th>Area</th>\n",
       "      <th>Facility Type</th>\n",
       "    </tr>\n",
       "  </thead>\n",
       "  <tbody>\n",
       "    <tr>\n",
       "      <th>0</th>\n",
       "      <td>1</td>\n",
       "      <td>MAMA LUCY KIBAKI HOSPITAL</td>\n",
       "      <td>NJIRU</td>\n",
       "      <td>Hospital Moh and Mission Districts, sub-districts</td>\n",
       "    </tr>\n",
       "    <tr>\n",
       "      <th>1</th>\n",
       "      <td>3</td>\n",
       "      <td>APTC  EMBAKASI HEALTH CENTRE</td>\n",
       "      <td>EMBAKASI</td>\n",
       "      <td>Health Centre</td>\n",
       "    </tr>\n",
       "    <tr>\n",
       "      <th>2</th>\n",
       "      <td>4</td>\n",
       "      <td>AYANY ESTATE HC</td>\n",
       "      <td>KIBRA</td>\n",
       "      <td>Health Centre</td>\n",
       "    </tr>\n",
       "    <tr>\n",
       "      <th>3</th>\n",
       "      <td>5</td>\n",
       "      <td>BABA DOGO HC</td>\n",
       "      <td>KASARANI</td>\n",
       "      <td>Health Centre</td>\n",
       "    </tr>\n",
       "    <tr>\n",
       "      <th>4</th>\n",
       "      <td>6</td>\n",
       "      <td>BAHATI DISP</td>\n",
       "      <td>MAKADARA</td>\n",
       "      <td>Dispensary</td>\n",
       "    </tr>\n",
       "  </tbody>\n",
       "</table>\n",
       "</div>"
      ],
      "text/plain": [
       "   facility_No                          Name      Area  \\\n",
       "0            1     MAMA LUCY KIBAKI HOSPITAL     NJIRU   \n",
       "1            3  APTC  EMBAKASI HEALTH CENTRE  EMBAKASI   \n",
       "2            4               AYANY ESTATE HC     KIBRA   \n",
       "3            5                  BABA DOGO HC  KASARANI   \n",
       "4            6                   BAHATI DISP  MAKADARA   \n",
       "\n",
       "                                      Facility Type   \n",
       "0  Hospital Moh and Mission Districts, sub-districts  \n",
       "1                                      Health Centre  \n",
       "2                                      Health Centre  \n",
       "3                                      Health Centre  \n",
       "4                                         Dispensary  "
      ]
     },
     "execution_count": 12,
     "metadata": {},
     "output_type": "execute_result"
    }
   ],
   "source": [
    "df.head()"
   ]
  },
  {
   "cell_type": "code",
   "execution_count": 13,
   "metadata": {},
   "outputs": [
    {
     "data": {
      "text/plain": [
       "0      False\n",
       "1      False\n",
       "2      False\n",
       "3      False\n",
       "4      False\n",
       "       ...  \n",
       "194    False\n",
       "195    False\n",
       "196    False\n",
       "197    False\n",
       "198    False\n",
       "Name: Area, Length: 199, dtype: bool"
      ]
     },
     "execution_count": 13,
     "metadata": {},
     "output_type": "execute_result"
    }
   ],
   "source": [
    "# Changing data types\n",
    "\n",
    "df['Name'].astype(str).str.isdigit()\n",
    "df['Area'].astype(str).str.isdigit()\n"
   ]
  },
  {
   "cell_type": "code",
   "execution_count": 14,
   "metadata": {},
   "outputs": [
    {
     "data": {
      "text/plain": [
       "facility_No       0\n",
       "Name              0\n",
       "Area              0\n",
       "Facility Type     0\n",
       "dtype: int64"
      ]
     },
     "execution_count": 14,
     "metadata": {},
     "output_type": "execute_result"
    }
   ],
   "source": [
    "# Viewing the sum of missing values in each column\n",
    "\n",
    "df.isnull().sum()"
   ]
  },
  {
   "attachments": {},
   "cell_type": "markdown",
   "metadata": {},
   "source": [
    "NB: I cleaned most of the data on MSexcel while analyzing it. This is why there are no missing data or data that needs to be dropped.\n",
    "This included dropping missing data and locations.\n"
   ]
  },
  {
   "attachments": {},
   "cell_type": "markdown",
   "metadata": {},
   "source": [
    "**Data Aggregation**"
   ]
  },
  {
   "attachments": {},
   "cell_type": "markdown",
   "metadata": {},
   "source": [
    "Grouping the Data"
   ]
  },
  {
   "cell_type": "code",
   "execution_count": 15,
   "metadata": {},
   "outputs": [
    {
     "data": {
      "text/plain": [
       "<pandas.core.groupby.generic.DataFrameGroupBy object at 0x00000256653FEE30>"
      ]
     },
     "execution_count": 15,
     "metadata": {},
     "output_type": "execute_result"
    }
   ],
   "source": [
    "# First I'll aggregate facilities based on each Sub-County\n",
    "# I'll create my groupby object\n",
    "\n",
    "df.groupby('Area')"
   ]
  },
  {
   "cell_type": "code",
   "execution_count": 16,
   "metadata": {},
   "outputs": [
    {
     "data": {
      "text/html": [
       "<div>\n",
       "<style scoped>\n",
       "    .dataframe tbody tr th:only-of-type {\n",
       "        vertical-align: middle;\n",
       "    }\n",
       "\n",
       "    .dataframe tbody tr th {\n",
       "        vertical-align: top;\n",
       "    }\n",
       "\n",
       "    .dataframe thead th {\n",
       "        text-align: right;\n",
       "    }\n",
       "</style>\n",
       "<table border=\"1\" class=\"dataframe\">\n",
       "  <thead>\n",
       "    <tr style=\"text-align: right;\">\n",
       "      <th></th>\n",
       "      <th>facility_No</th>\n",
       "      <th>Name</th>\n",
       "      <th>Area</th>\n",
       "      <th>Facility Type</th>\n",
       "    </tr>\n",
       "  </thead>\n",
       "  <tbody>\n",
       "    <tr>\n",
       "      <th>6</th>\n",
       "      <td>8</td>\n",
       "      <td>BETTER LIVING CENTRE SDA DISP</td>\n",
       "      <td>WESTLANDS</td>\n",
       "      <td>Dispensary</td>\n",
       "    </tr>\n",
       "    <tr>\n",
       "      <th>26</th>\n",
       "      <td>33</td>\n",
       "      <td>GETRUDES GARDENS CHILDREN'S HOSPITAL</td>\n",
       "      <td>WESTLANDS</td>\n",
       "      <td>Hospital Moh and Mission Districts, sub-districts</td>\n",
       "    </tr>\n",
       "    <tr>\n",
       "      <th>27</th>\n",
       "      <td>34</td>\n",
       "      <td>HIGHRIDGE HC</td>\n",
       "      <td>WESTLANDS</td>\n",
       "      <td>Health Centre</td>\n",
       "    </tr>\n",
       "    <tr>\n",
       "      <th>37</th>\n",
       "      <td>46</td>\n",
       "      <td>KABETE TECHNICAL AND TRADE DISP</td>\n",
       "      <td>WESTLANDS</td>\n",
       "      <td>Dispensary</td>\n",
       "    </tr>\n",
       "    <tr>\n",
       "      <th>42</th>\n",
       "      <td>51</td>\n",
       "      <td>KANGEMI HEALTH CENTRE</td>\n",
       "      <td>WESTLANDS</td>\n",
       "      <td>Health Centre</td>\n",
       "    </tr>\n",
       "    <tr>\n",
       "      <th>55</th>\n",
       "      <td>68</td>\n",
       "      <td>LADY NORTH HEALTH CENTRE</td>\n",
       "      <td>WESTLANDS</td>\n",
       "      <td>Health Centre</td>\n",
       "    </tr>\n",
       "    <tr>\n",
       "      <th>60</th>\n",
       "      <td>75</td>\n",
       "      <td>LOWER KABETE SHC</td>\n",
       "      <td>WESTLANDS</td>\n",
       "      <td>Health Centre</td>\n",
       "    </tr>\n",
       "    <tr>\n",
       "      <th>91</th>\n",
       "      <td>124</td>\n",
       "      <td>STATE HOUSE DISP</td>\n",
       "      <td>WESTLANDS</td>\n",
       "      <td>Dispensary</td>\n",
       "    </tr>\n",
       "    <tr>\n",
       "      <th>92</th>\n",
       "      <td>125</td>\n",
       "      <td>STATE HOUSE ROAD DISP</td>\n",
       "      <td>WESTLANDS</td>\n",
       "      <td>Dispensary</td>\n",
       "    </tr>\n",
       "    <tr>\n",
       "      <th>94</th>\n",
       "      <td>127</td>\n",
       "      <td>ULINZI HOUSE MIR DISP</td>\n",
       "      <td>WESTLANDS</td>\n",
       "      <td>Dispensary</td>\n",
       "    </tr>\n",
       "    <tr>\n",
       "      <th>98</th>\n",
       "      <td>133</td>\n",
       "      <td>WESTLANDS DISP</td>\n",
       "      <td>WESTLANDS</td>\n",
       "      <td>Dispensary</td>\n",
       "    </tr>\n",
       "    <tr>\n",
       "      <th>99</th>\n",
       "      <td>135</td>\n",
       "      <td>WESTLANDS HEALTH CENTRE</td>\n",
       "      <td>WESTLANDS</td>\n",
       "      <td>Health Centre</td>\n",
       "    </tr>\n",
       "    <tr>\n",
       "      <th>117</th>\n",
       "      <td>166</td>\n",
       "      <td>KABETE APPROVED SCHOOL DISP</td>\n",
       "      <td>WESTLANDS</td>\n",
       "      <td>Institutions Health Facilities - schools, Univ...</td>\n",
       "    </tr>\n",
       "    <tr>\n",
       "      <th>134</th>\n",
       "      <td>207</td>\n",
       "      <td>UNIVERSITY OF NAIROBI HEALTH SERVICES</td>\n",
       "      <td>WESTLANDS</td>\n",
       "      <td>Institutions Health Facilities - schools, Univ...</td>\n",
       "    </tr>\n",
       "    <tr>\n",
       "      <th>135</th>\n",
       "      <td>212</td>\n",
       "      <td>AVENUE NURSING HOME</td>\n",
       "      <td>WESTLANDS</td>\n",
       "      <td>Nursing Homes and Maternity Hospitals</td>\n",
       "    </tr>\n",
       "    <tr>\n",
       "      <th>151</th>\n",
       "      <td>264</td>\n",
       "      <td>NATIONAL SPINAL INJURY HOSP.</td>\n",
       "      <td>WESTLANDS</td>\n",
       "      <td>Special Treatment Hospitals</td>\n",
       "    </tr>\n",
       "    <tr>\n",
       "      <th>160</th>\n",
       "      <td>290</td>\n",
       "      <td>WESTLANDS MAT. UNIT</td>\n",
       "      <td>WESTLANDS</td>\n",
       "      <td>Nursing Homes and Maternity Hospitals</td>\n",
       "    </tr>\n",
       "    <tr>\n",
       "      <th>162</th>\n",
       "      <td>298</td>\n",
       "      <td>AGA KHAN HOSPITAL</td>\n",
       "      <td>WESTLANDS</td>\n",
       "      <td>Private Hospital</td>\n",
       "    </tr>\n",
       "    <tr>\n",
       "      <th>163</th>\n",
       "      <td>310</td>\n",
       "      <td>AVENUE HOSPITAL</td>\n",
       "      <td>WESTLANDS</td>\n",
       "      <td>Private Hospital</td>\n",
       "    </tr>\n",
       "    <tr>\n",
       "      <th>164</th>\n",
       "      <td>316</td>\n",
       "      <td>MP SHAH HOSPITAL</td>\n",
       "      <td>WESTLANDS</td>\n",
       "      <td>Private Hospital</td>\n",
       "    </tr>\n",
       "    <tr>\n",
       "      <th>170</th>\n",
       "      <td>413</td>\n",
       "      <td>THE AGA KHAN UNIVERSITY HOSPITAL</td>\n",
       "      <td>WESTLANDS</td>\n",
       "      <td>Private Hospital</td>\n",
       "    </tr>\n",
       "    <tr>\n",
       "      <th>171</th>\n",
       "      <td>420</td>\n",
       "      <td>AAR HOSPITAL</td>\n",
       "      <td>WESTLANDS</td>\n",
       "      <td>Private Hospital</td>\n",
       "    </tr>\n",
       "    <tr>\n",
       "      <th>176</th>\n",
       "      <td>534</td>\n",
       "      <td>NAIROBI ADVENTIST HOSPITAL</td>\n",
       "      <td>WESTLANDS</td>\n",
       "      <td>Private Hospital</td>\n",
       "    </tr>\n",
       "    <tr>\n",
       "      <th>180</th>\n",
       "      <td>670</td>\n",
       "      <td>HURLINGHAM HOSPITAL</td>\n",
       "      <td>WESTLANDS</td>\n",
       "      <td>Private Hospital</td>\n",
       "    </tr>\n",
       "    <tr>\n",
       "      <th>181</th>\n",
       "      <td>675</td>\n",
       "      <td>ISLAMIC REPUBLIC OF IRAN MEDICAL CLINIC</td>\n",
       "      <td>WESTLANDS</td>\n",
       "      <td>Private Clinics and Medical centres</td>\n",
       "    </tr>\n",
       "    <tr>\n",
       "      <th>182</th>\n",
       "      <td>691</td>\n",
       "      <td>KANGEMI GICHAGI DISPENSARY</td>\n",
       "      <td>WESTLANDS</td>\n",
       "      <td>Dispensary</td>\n",
       "    </tr>\n",
       "    <tr>\n",
       "      <th>184</th>\n",
       "      <td>714</td>\n",
       "      <td>M P SHAH HOSPITAL</td>\n",
       "      <td>WESTLANDS</td>\n",
       "      <td>Private Hospital</td>\n",
       "    </tr>\n",
       "    <tr>\n",
       "      <th>185</th>\n",
       "      <td>720</td>\n",
       "      <td>MASABA HOSPITAL</td>\n",
       "      <td>WESTLANDS</td>\n",
       "      <td>Private Hospital</td>\n",
       "    </tr>\n",
       "    <tr>\n",
       "      <th>187</th>\n",
       "      <td>754</td>\n",
       "      <td>NAIROBI HOSPITAL</td>\n",
       "      <td>WESTLANDS</td>\n",
       "      <td>Private Hospital</td>\n",
       "    </tr>\n",
       "    <tr>\n",
       "      <th>195</th>\n",
       "      <td>872</td>\n",
       "      <td>WESTLANDS COTTAGE HOSPITAL</td>\n",
       "      <td>WESTLANDS</td>\n",
       "      <td>Private Hospital</td>\n",
       "    </tr>\n",
       "    <tr>\n",
       "      <th>196</th>\n",
       "      <td>176</td>\n",
       "      <td>MEDANTA AFRICARE</td>\n",
       "      <td>WESTLANDS</td>\n",
       "      <td>Private Hospital</td>\n",
       "    </tr>\n",
       "    <tr>\n",
       "      <th>198</th>\n",
       "      <td>418</td>\n",
       "      <td>MEDIHEAL HOSPITALS</td>\n",
       "      <td>WESTLANDS</td>\n",
       "      <td>Private Hospital</td>\n",
       "    </tr>\n",
       "  </tbody>\n",
       "</table>\n",
       "</div>"
      ],
      "text/plain": [
       "     facility_No                                     Name       Area  \\\n",
       "6              8            BETTER LIVING CENTRE SDA DISP  WESTLANDS   \n",
       "26            33     GETRUDES GARDENS CHILDREN'S HOSPITAL  WESTLANDS   \n",
       "27            34                             HIGHRIDGE HC  WESTLANDS   \n",
       "37            46          KABETE TECHNICAL AND TRADE DISP  WESTLANDS   \n",
       "42            51                    KANGEMI HEALTH CENTRE  WESTLANDS   \n",
       "55            68                 LADY NORTH HEALTH CENTRE  WESTLANDS   \n",
       "60            75                         LOWER KABETE SHC  WESTLANDS   \n",
       "91           124                         STATE HOUSE DISP  WESTLANDS   \n",
       "92           125                    STATE HOUSE ROAD DISP  WESTLANDS   \n",
       "94           127                    ULINZI HOUSE MIR DISP  WESTLANDS   \n",
       "98           133                           WESTLANDS DISP  WESTLANDS   \n",
       "99           135                  WESTLANDS HEALTH CENTRE  WESTLANDS   \n",
       "117          166              KABETE APPROVED SCHOOL DISP  WESTLANDS   \n",
       "134          207    UNIVERSITY OF NAIROBI HEALTH SERVICES  WESTLANDS   \n",
       "135          212                      AVENUE NURSING HOME  WESTLANDS   \n",
       "151          264             NATIONAL SPINAL INJURY HOSP.  WESTLANDS   \n",
       "160          290                      WESTLANDS MAT. UNIT  WESTLANDS   \n",
       "162          298                        AGA KHAN HOSPITAL  WESTLANDS   \n",
       "163          310                          AVENUE HOSPITAL  WESTLANDS   \n",
       "164          316                         MP SHAH HOSPITAL  WESTLANDS   \n",
       "170          413         THE AGA KHAN UNIVERSITY HOSPITAL  WESTLANDS   \n",
       "171          420                             AAR HOSPITAL  WESTLANDS   \n",
       "176          534               NAIROBI ADVENTIST HOSPITAL  WESTLANDS   \n",
       "180          670                      HURLINGHAM HOSPITAL  WESTLANDS   \n",
       "181          675  ISLAMIC REPUBLIC OF IRAN MEDICAL CLINIC  WESTLANDS   \n",
       "182          691               KANGEMI GICHAGI DISPENSARY  WESTLANDS   \n",
       "184          714                        M P SHAH HOSPITAL  WESTLANDS   \n",
       "185          720                          MASABA HOSPITAL  WESTLANDS   \n",
       "187          754                         NAIROBI HOSPITAL  WESTLANDS   \n",
       "195          872               WESTLANDS COTTAGE HOSPITAL  WESTLANDS   \n",
       "196          176                         MEDANTA AFRICARE  WESTLANDS   \n",
       "198          418                       MEDIHEAL HOSPITALS  WESTLANDS   \n",
       "\n",
       "                                        Facility Type   \n",
       "6                                           Dispensary  \n",
       "26   Hospital Moh and Mission Districts, sub-districts  \n",
       "27                                       Health Centre  \n",
       "37                                          Dispensary  \n",
       "42                                       Health Centre  \n",
       "55                                       Health Centre  \n",
       "60                                       Health Centre  \n",
       "91                                          Dispensary  \n",
       "92                                          Dispensary  \n",
       "94                                          Dispensary  \n",
       "98                                          Dispensary  \n",
       "99                                       Health Centre  \n",
       "117  Institutions Health Facilities - schools, Univ...  \n",
       "134  Institutions Health Facilities - schools, Univ...  \n",
       "135              Nursing Homes and Maternity Hospitals  \n",
       "151                        Special Treatment Hospitals  \n",
       "160              Nursing Homes and Maternity Hospitals  \n",
       "162                                   Private Hospital  \n",
       "163                                   Private Hospital  \n",
       "164                                   Private Hospital  \n",
       "170                                   Private Hospital  \n",
       "171                                   Private Hospital  \n",
       "176                                   Private Hospital  \n",
       "180                                   Private Hospital  \n",
       "181                Private Clinics and Medical centres  \n",
       "182                                         Dispensary  \n",
       "184                                   Private Hospital  \n",
       "185                                   Private Hospital  \n",
       "187                                   Private Hospital  \n",
       "195                                   Private Hospital  \n",
       "196                                   Private Hospital  \n",
       "198                                   Private Hospital  "
      ]
     },
     "execution_count": 16,
     "metadata": {},
     "output_type": "execute_result"
    }
   ],
   "source": [
    "# Using my object\n",
    "\n",
    "Area_groups = df.groupby('Area')\n",
    "Area_groups.get_group('WESTLANDS')"
   ]
  },
  {
   "cell_type": "code",
   "execution_count": 17,
   "metadata": {},
   "outputs": [
    {
     "data": {
      "text/plain": [
       "{'DAGORETTI': [38, 50, 52, 65, 69, 75, 85, 86, 93, 97, 101, 105, 106, 108, 111, 138, 158, 165, 173, 175, 197], 'EMBAKASI': [1, 15, 23, 44, 95, 107, 112, 113, 120, 129, 147, 153, 157, 159, 178, 190, 191, 192, 194], 'KAMUKUNJI': [5, 9, 10, 14, 16, 19, 20, 21, 28, 30, 31, 32, 33, 34, 35, 40, 48, 54, 56, 70, 73, 74, 81, 83, 84, 87, 88, 90, 114, 115, 119, 131, 136, 137, 139, 142, 144, 149, 152, 154, 155, 156, 189, 193], 'KASARANI': [3, 12, 39, 41, 45, 46, 47, 49, 58, 76, 77, 80, 109, 110, 118, 121, 145, 172], 'KIBRA': [2, 53, 57, 100, 116, 122, 125, 126, 127, 133, 140, 146], 'LANG'ATA': [13, 24, 25, 36, 43, 72, 128, 150, 166, 167, 168, 169, 174, 188], 'MAKADARA': [4, 11, 22, 59, 61, 62, 63, 64, 66, 71, 78, 79, 102, 103, 104, 124, 130, 132, 161, 186], 'MATHARE': [29, 67, 68, 82, 96, 123, 143], 'NJIRU': [0, 8, 17, 18, 51, 89, 177, 183], 'PUMWANI': [141], 'STAREHE': [7, 148, 179], 'WESTLANDS': [6, 26, 27, 37, 42, 55, 60, 91, 92, 94, 98, 99, 117, 134, 135, 151, 160, 162, 163, 164, 170, 171, 176, 180, 181, 182, 184, 185, 187, 195, 196, 198]}"
      ]
     },
     "execution_count": 17,
     "metadata": {},
     "output_type": "execute_result"
    }
   ],
   "source": [
    "# groups made\n",
    "\n",
    "# It is a dictionary where each key corresponds to a Sub-County name\n",
    "# The values are the index ranges for each group\n",
    "\n",
    "Area_groups.groups"
   ]
  },
  {
   "cell_type": "code",
   "execution_count": 18,
   "metadata": {},
   "outputs": [
    {
     "data": {
      "text/plain": [
       "Area\n",
       "DAGORETTI    21\n",
       "EMBAKASI     19\n",
       "KAMUKUNJI    44\n",
       "KASARANI     18\n",
       "KIBRA        12\n",
       "LANG'ATA     14\n",
       "MAKADARA     20\n",
       "MATHARE       7\n",
       "NJIRU         8\n",
       "PUMWANI       1\n",
       "STAREHE       3\n",
       "WESTLANDS    32\n",
       "dtype: int64"
      ]
     },
     "execution_count": 18,
     "metadata": {},
     "output_type": "execute_result"
    }
   ],
   "source": [
    "# I can use Size to get a count of the number of items in each group\n",
    "\n",
    "Area_groups.size()"
   ]
  },
  {
   "attachments": {},
   "cell_type": "markdown",
   "metadata": {},
   "source": [
    "**Pivot Tables**"
   ]
  },
  {
   "cell_type": "code",
   "execution_count": null,
   "metadata": {},
   "outputs": [],
   "source": [
    "from matplotlib import pyplot as plt\n",
    "\n",
    "# Enlarge the plot]"
   ]
  }
 ],
 "metadata": {
  "kernelspec": {
   "display_name": "Python 3",
   "language": "python",
   "name": "python3"
  },
  "language_info": {
   "codemirror_mode": {
    "name": "ipython",
    "version": 3
   },
   "file_extension": ".py",
   "mimetype": "text/x-python",
   "name": "python",
   "nbconvert_exporter": "python",
   "pygments_lexer": "ipython3",
   "version": "3.10.11"
  },
  "orig_nbformat": 4,
  "vscode": {
   "interpreter": {
    "hash": "0644e313699a4f22a16e9464c821fb909d2b527bf831ab299adcac1fa27b92d8"
   }
  }
 },
 "nbformat": 4,
 "nbformat_minor": 2
}
